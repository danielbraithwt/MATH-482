{
 "cells": [
  {
   "cell_type": "code",
   "execution_count": 8,
   "metadata": {
    "collapsed": false
   },
   "outputs": [],
   "source": [
    "import autograd.numpy as np\n",
    "from autograd import grad\n",
    "import random"
   ]
  },
  {
   "cell_type": "code",
   "execution_count": 9,
   "metadata": {
    "collapsed": true
   },
   "outputs": [],
   "source": [
    "def initPerceptronNetwork(nInputs, layers, outputs):\n",
    "    network = []\n",
    "    \n",
    "    layers = np.append(layers, outputs)\n",
    "    prevSize = nInputs\n",
    "    for size in layers:\n",
    "        L = []\n",
    "        \n",
    "        for i in range(0, size):\n",
    "            L.append(-0.5 + np.random.rand(prevSize+1))\n",
    "            \n",
    "        network.append(L)\n",
    "        prevSize = size\n",
    "        \n",
    "    return network\n",
    "        \n",
    "def f(network, d):\n",
    "    inputs = d\n",
    "    for l in range(0, len(network)):\n",
    "        inputs = np.array([np.sum(m(inputs, neuron)) for neuron in network[l]])\n",
    "        \n",
    "    return inputs\n",
    "\n",
    "def m(v1, v2):\n",
    "    res = [None] * max(len(v1), len(v2))\n",
    "    for i in range(0, max(len(v1), len(v2))):\n",
    "        a = v1[i] if i < len(v1) else None\n",
    "        b = v2[i] if i < len(v2) else None\n",
    "        \n",
    "        if a and b:\n",
    "            res[i] = a * b\n",
    "        elif a:\n",
    "            res[i] = a\n",
    "        else:\n",
    "            res[i] = b\n",
    "    return res\n",
    "            \n",
    "        \n",
    "            "
   ]
  },
  {
   "cell_type": "code",
   "execution_count": 10,
   "metadata": {
    "collapsed": true
   },
   "outputs": [],
   "source": [
    "def __loss__(net):\n",
    "    err = 0\n",
    "    \n",
    "    for i in range(0, R.shape[0]):\n",
    "        for j in range(0, R.shape[1]):\n",
    "            if R[i,j] == 0:\n",
    "                continue\n",
    "                \n",
    "            u_i = R[i,:] # I'th row is the user\n",
    "            m_i = R[:,j] # J'th colum is the movie\n",
    "                \n",
    "            inputs = np.concatenate([u_i, m_i])\n",
    "                \n",
    "            r_ij = f(net, inputs)\n",
    "            err += np.power((R[i,j] - r_ij), 2)\n",
    "            \n",
    "    return err\n",
    "\n",
    "def R_hat(net):\n",
    "    R_hat = np.zeros(R.shape)\n",
    "    for i in range(0, R.shape[0]):\n",
    "        for j in range(0, R.shape[1]):\n",
    "            u_i = R[i,:] # I'th row is the user\n",
    "            m_i = R[:,j] # J'th colum is the movie\n",
    "                \n",
    "            inputs = np.concatenate([u_i, m_i])\n",
    "            R_hat[i][j] = f(net, inputs)\n",
    "            \n",
    "    return R_hat\n",
    "\n",
    "def applyGrad(network, grad, LR):\n",
    "    for l in range(0, len(network)):\n",
    "        network[l] -= LR * np.array(grad[l])"
   ]
  },
  {
   "cell_type": "markdown",
   "metadata": {},
   "source": [
    "# Example"
   ]
  },
  {
   "cell_type": "code",
   "execution_count": 14,
   "metadata": {
    "collapsed": false
   },
   "outputs": [
    {
     "name": "stdout",
     "output_type": "stream",
     "text": [
      "-- R --\n",
      "[[ 7 15  9]\n",
      " [18 35 22]\n",
      " [22 42 27]]\n",
      "[0]: [ 4984.42700997]\n",
      "[100]: [ 408.00590938]\n",
      "[200]: [ 294.61493194]\n",
      "[300]: [ 244.58210808]\n",
      "[400]: [ 209.45667459]\n",
      "[500]: [ 183.1425204]\n",
      "[600]: [ 162.59776076]\n",
      "[700]: [ 146.08030279]\n",
      "[800]: [ 132.48708761]\n",
      "[900]: [ 121.06808537]\n",
      "[1000]: [ 111.29136502]\n",
      "[1100]: [ 102.77180895]\n",
      "[1200]: [ 95.22844084]\n",
      "[1300]: [ 88.45602888]\n",
      "[1400]: [ 82.30485353]\n",
      "[1500]: [ 76.66580322]\n",
      "[1600]: [ 71.45928039]\n",
      "[1700]: [ 66.62695907]\n",
      "[1800]: [ 62.12570625]\n",
      "[1900]: [ 57.92314077]\n",
      "[2000]: [ 53.99441974]\n",
      "[2100]: [ 50.31993484]\n",
      "[2200]: [ 46.88367608]\n",
      "[2300]: [ 43.67208047]\n",
      "[2400]: [ 40.67323081]\n",
      "[2500]: [ 37.87630536]\n",
      "[2600]: [ 35.27120687]\n",
      "[2700]: [ 32.84831895]\n",
      "[2800]: [ 30.59835257]\n",
      "[2900]: [ 28.51225572]\n",
      "[3000]: [ 26.58116693]\n",
      "[3100]: [ 24.79639841]\n",
      "[3200]: [ 23.14943887]\n",
      "[3300]: [ 21.63196829]\n",
      "[3400]: [ 20.23587946]\n",
      "[3500]: [ 18.9533023]\n",
      "[3600]: [ 17.77662823]\n",
      "[3700]: [ 16.69853269]\n",
      "[3800]: [ 15.71199465]\n",
      "[3900]: [ 14.81031225]\n",
      "[4000]: [ 13.98711437]\n",
      "[4100]: [ 13.23636799]\n",
      "[4200]: [ 12.5523815]\n",
      "[4300]: [ 11.92980432]\n",
      "[4400]: [ 11.36362309]\n",
      "[4500]: [ 10.84915504]\n",
      "[4600]: [ 10.38203884]\n",
      "[4700]: [ 9.95822347]\n",
      "[4800]: [ 9.57395558]\n",
      "[4900]: [ 9.22576566]\n",
      "[5000]: [ 8.91045346]\n",
      "-- R0 --\n",
      "[[ 0 15  9]\n",
      " [18 35  0]\n",
      " [22  0 27]]\n",
      "\n",
      "-- R Hat --\n",
      "[[  2.95979895  16.54689578   8.22672724]\n",
      " [ 19.55145724  33.13855406  24.81838553]\n",
      " [ 21.79947992  35.38657675  27.06640821]]\n"
     ]
    }
   ],
   "source": [
    "# R = np.array([\n",
    "#     [1.0,4.0,3.0,6.0],\n",
    "#     [6.0,3.0,8.0,1.0],\n",
    "#     [2.0,7.0,5.0,3.0],\n",
    "#     [2.0,6.0,4.0,3.0]\n",
    "# ])\n",
    "\n",
    "A = np.array(\n",
    "[\n",
    "    [1,2,1],\n",
    "    [2,4,3],\n",
    "    [1,5,4]\n",
    "])\n",
    "\n",
    "B = np.array(\n",
    "[\n",
    "    [1,2,1],\n",
    "    [1,4,2],\n",
    "    [4,5,4]\n",
    "])\n",
    "\n",
    "R = np.dot(A, B)\n",
    "\n",
    "\n",
    "print(\"-- R --\")\n",
    "print(R)\n",
    "\n",
    "R[1,2] = 0\n",
    "R[2,1] = 0\n",
    "R[0,0] = 0\n",
    "\n",
    "theta_grad = grad(__loss__)\n",
    "\n",
    "theta = initPerceptronNetwork(6, [6], 1)\n",
    "\n",
    "LR = 0.000001\n",
    "\n",
    "for i in range(0, 5001):\n",
    "    if i % 100 == 0:\n",
    "        print(\"[\" + str(i) +\"]: \" + str(__loss__(theta)))\n",
    "        \n",
    "    theta_g = theta_grad(theta)\n",
    "    applyGrad(theta, theta_g, LR)\n",
    "    \n",
    "    \n",
    "print(\"-- R0 --\")\n",
    "print(R)\n",
    "print(\"\\n-- R Hat --\")\n",
    "print(R_hat(theta))"
   ]
  },
  {
   "cell_type": "code",
   "execution_count": null,
   "metadata": {
    "collapsed": true
   },
   "outputs": [],
   "source": []
  },
  {
   "cell_type": "code",
   "execution_count": null,
   "metadata": {
    "collapsed": true
   },
   "outputs": [],
   "source": []
  },
  {
   "cell_type": "code",
   "execution_count": null,
   "metadata": {
    "collapsed": true
   },
   "outputs": [],
   "source": []
  }
 ],
 "metadata": {
  "kernelspec": {
   "display_name": "Python 3",
   "language": "python",
   "name": "python3"
  },
  "language_info": {
   "codemirror_mode": {
    "name": "ipython",
    "version": 3
   },
   "file_extension": ".py",
   "mimetype": "text/x-python",
   "name": "python",
   "nbconvert_exporter": "python",
   "pygments_lexer": "ipython3",
   "version": "3.6.0"
  }
 },
 "nbformat": 4,
 "nbformat_minor": 2
}
