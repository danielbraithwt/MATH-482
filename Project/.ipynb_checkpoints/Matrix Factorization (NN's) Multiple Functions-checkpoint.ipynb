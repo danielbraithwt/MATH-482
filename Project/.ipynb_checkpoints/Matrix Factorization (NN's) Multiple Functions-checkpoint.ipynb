{
 "cells": [
  {
   "cell_type": "code",
   "execution_count": 124,
   "metadata": {
    "collapsed": false
   },
   "outputs": [],
   "source": [
    "import autograd.numpy as np\n",
    "from autograd import grad\n",
    "import random"
   ]
  },
  {
   "cell_type": "code",
   "execution_count": 125,
   "metadata": {
    "collapsed": true
   },
   "outputs": [],
   "source": [
    "def initPerceptronNetwork(nInputs, layers, outputs):\n",
    "    network = []\n",
    "    \n",
    "    layers = np.append(layers, outputs)\n",
    "    prevSize = nInputs\n",
    "    for size in layers:\n",
    "        L = []\n",
    "        \n",
    "        for i in range(0, size):\n",
    "            L.append(np.random.rand(prevSize+1))\n",
    "            \n",
    "        network.append(L)\n",
    "        prevSize = size\n",
    "        \n",
    "    return network\n",
    "        \n",
    "def f(network, d):\n",
    "    inputs = d\n",
    "    for l in range(0, len(network)):\n",
    "        inputs = np.append([1], inputs)\n",
    "        out = np.array([])\n",
    "        \n",
    "        for n in range(0, len(network[l])):\n",
    "            neuron = network[l][n]\n",
    "            out = np.append(out, np.dot(inputs, neuron))\n",
    "            \n",
    "        inputs = out\n",
    "    \n",
    "    return inputs"
   ]
  },
  {
   "cell_type": "code",
   "execution_count": 129,
   "metadata": {
    "collapsed": true
   },
   "outputs": [],
   "source": [
    "def loss_theta(theta):\n",
    "    return __loss__(theta, fi)\n",
    "\n",
    "def loss_fi(fi):\n",
    "    return __loss__(theta, fi)\n",
    "    \n",
    "def __loss__(n1, n2):\n",
    "    err = 0\n",
    "    \n",
    "    for i in range(0, R.shape[0]):\n",
    "        for j in range(0, R.shape[1]):\n",
    "            if R[i,j] == 0:\n",
    "                continue\n",
    "                \n",
    "            u_i = R[i,:] # I'th row is the user\n",
    "            m_i = R[:,j] # J'th colum is the movie\n",
    "                        \n",
    "            r_ij = np.dot(f(n1, u_i).T, f(n2, m_i))\n",
    "            err += (R[i,j] - r_ij)**2\n",
    "            \n",
    "    return err"
   ]
  },
  {
   "cell_type": "markdown",
   "metadata": {},
   "source": [
    "# Example"
   ]
  },
  {
   "cell_type": "code",
   "execution_count": 130,
   "metadata": {
    "collapsed": false
   },
   "outputs": [
    {
     "name": "stdout",
     "output_type": "stream",
     "text": [
      "101360938.38\n"
     ]
    }
   ],
   "source": [
    "R = np.array([\n",
    "    [1.0,4.0,3.0,6.0],\n",
    "    [6.0,3.0,8.0,1.0],\n",
    "    [2.0,7.0,5.0,3.0],\n",
    "    [2.0,6.0,4.0,3.0]\n",
    "])\n",
    "\n",
    "theta_grad = grad(loss_theta)\n",
    "# fi_grad = grad(loss_fi)\n",
    "\n",
    "# g = grad(__loss__)\n",
    "\n",
    "theta = initPerceptronNetwork(4, [8], 2)\n",
    "# fi = initPerceptronNetwork(4, [8], 2)\n",
    "\n",
    "# print(f(theta, np.array([1.0,4.0,3.0,6.0])))\n",
    "\n",
    "print(theta_grad(theta))\n",
    "\n",
    "# print(__loss__(theta, fi))\n",
    "\n",
    "LR = 0.01\n",
    "\n",
    "# for i in range(0, 2):\n",
    "# print(g(theta, fi))\n",
    "#     theta -= LR * theta_grad(theta)\n",
    "#     fi -= LR * fi_grad(fi)"
   ]
  },
  {
   "cell_type": "code",
   "execution_count": null,
   "metadata": {
    "collapsed": true
   },
   "outputs": [],
   "source": []
  },
  {
   "cell_type": "code",
   "execution_count": null,
   "metadata": {
    "collapsed": true
   },
   "outputs": [],
   "source": []
  }
 ],
 "metadata": {
  "kernelspec": {
   "display_name": "Python 3",
   "language": "python",
   "name": "python3"
  },
  "language_info": {
   "codemirror_mode": {
    "name": "ipython",
    "version": 3
   },
   "file_extension": ".py",
   "mimetype": "text/x-python",
   "name": "python",
   "nbconvert_exporter": "python",
   "pygments_lexer": "ipython3",
   "version": "3.6.0"
  }
 },
 "nbformat": 4,
 "nbformat_minor": 2
}
