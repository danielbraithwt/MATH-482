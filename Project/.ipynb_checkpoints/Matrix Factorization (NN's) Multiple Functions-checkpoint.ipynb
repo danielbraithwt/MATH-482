{
 "cells": [
  {
   "cell_type": "code",
   "execution_count": 88,
   "metadata": {
    "collapsed": false
   },
   "outputs": [],
   "source": [
    "import autograd.numpy as np\n",
    "from autograd import grad\n",
    "import random"
   ]
  },
  {
   "cell_type": "code",
   "execution_count": 89,
   "metadata": {
    "collapsed": true
   },
   "outputs": [],
   "source": [
    "def initPerceptronNetwork(nInputs, layers, outputs):\n",
    "    network = []\n",
    "    \n",
    "    layers = np.append(layers, outputs)\n",
    "    prevSize = nInputs\n",
    "    for size in layers:\n",
    "        L = []\n",
    "        \n",
    "        for i in range(0, size):\n",
    "            L.append(-0.5 + np.random.rand(prevSize+1))\n",
    "            \n",
    "        network.append(L)\n",
    "        prevSize = size\n",
    "        \n",
    "    return network\n",
    "        \n",
    "def f(network, d):\n",
    "    inputs = d\n",
    "    for l in range(0, len(network)):\n",
    "        inputs = np.array([np.sum(m(inputs, neuron)) for neuron in network[l]])\n",
    "        \n",
    "    return inputs\n",
    "\n",
    "def m(v1, v2):\n",
    "    res = [None] * max(len(v1), len(v2))\n",
    "    for i in range(0, max(len(v1), len(v2))):\n",
    "        a = v1[i] if i < len(v1) else None\n",
    "        b = v2[i] if i < len(v2) else None\n",
    "        \n",
    "        if a and b:\n",
    "            res[i] = a * b\n",
    "        elif a:\n",
    "            res[i] = a\n",
    "        else:\n",
    "            res[i] = b\n",
    "    return res\n",
    "            \n",
    "        \n",
    "            "
   ]
  },
  {
   "cell_type": "code",
   "execution_count": 90,
   "metadata": {
    "collapsed": true
   },
   "outputs": [],
   "source": [
    "def loss_theta(theta):\n",
    "    return __loss__(theta, fi)\n",
    "\n",
    "def loss_fi(fi):\n",
    "    return __loss__(theta, fi)\n",
    "    \n",
    "def __loss__(n1, n2):\n",
    "    err = 0\n",
    "    \n",
    "    for i in range(0, R.shape[0]):\n",
    "        for j in range(0, R.shape[1]):\n",
    "            if R[i,j] == 0:\n",
    "                continue\n",
    "                \n",
    "            u_i = R[i,:] # I'th row is the user\n",
    "            m_i = R[:,j] # J'th colum is the movie\n",
    "                        \n",
    "            r_ij = np.dot(f(n1, u_i).T, f(n2, m_i))\n",
    "            err += (R[i,j] - r_ij)**2\n",
    "            \n",
    "    return err\n",
    "\n",
    "def R_hat(n1, n2):\n",
    "    R_hat = np.zeros(R.shape)\n",
    "    for i in range(0, R.shape[0]):\n",
    "        for j in range(0, R.shape[1]):\n",
    "            u_i = R[i,:] # I'th row is the user\n",
    "            m_i = R[:,j] # J'th colum is the movie\n",
    "                        \n",
    "            R_hat[i][j] = np.dot(f(n1, u_i).T, f(n2, m_i))\n",
    "            \n",
    "    return R_hat\n",
    "\n",
    "def applyGrad(network, grad, LR):\n",
    "    for l in range(0, len(network)):\n",
    "        network[l] -= LR * np.array(grad[l])"
   ]
  },
  {
   "cell_type": "markdown",
   "metadata": {},
   "source": [
    "# Example"
   ]
  },
  {
   "cell_type": "code",
   "execution_count": 92,
   "metadata": {
    "collapsed": false
   },
   "outputs": [
    {
     "name": "stdout",
     "output_type": "stream",
     "text": [
      "-- R --\n",
      "[[ 7 15  9]\n",
      " [18 35 22]\n",
      " [22 42 27]]\n",
      "[0]: 1946.61252501\n",
      "[100]: 122.146730724\n",
      "[200]: 57.5310109948\n",
      "[300]: 38.2979428593\n",
      "[400]: 27.47357344\n",
      "[500]: 19.9399504047\n",
      "[600]: 14.5146171799\n",
      "[700]: 10.5869849718\n",
      "[800]: 7.73978667206\n",
      "[900]: 5.67335447046\n",
      "[1000]: 4.17099305793\n",
      "-- R0 --\n",
      "[[ 0 15  9]\n",
      " [18 35  0]\n",
      " [22  0 27]]\n",
      "\n",
      "-- R Hat --\n",
      "[[  6.31927639  13.4020391    8.39894805]\n",
      " [ 18.57822898  35.59191629  23.8417596 ]\n",
      " [ 21.34959173  40.76761689  27.3684563 ]]\n"
     ]
    }
   ],
   "source": [
    "A = np.array(\n",
    "[\n",
    "    [1,2,1],\n",
    "    [2,4,3],\n",
    "    [1,5,4]\n",
    "])\n",
    "\n",
    "B = np.array(\n",
    "[\n",
    "    [1,2,1],\n",
    "    [1,4,2],\n",
    "    [4,5,4]\n",
    "])\n",
    "\n",
    "R = np.dot(A, B)\n",
    "\n",
    "\n",
    "print(\"-- R --\")\n",
    "print(R)\n",
    "\n",
    "R[1,2] = 0\n",
    "R[2,1] = 0\n",
    "R[0,0] = 0\n",
    "\n",
    "theta_grad = grad(loss_theta)\n",
    "fi_grad = grad(loss_fi)\n",
    "\n",
    "theta = initPerceptronNetwork(3, [2], 2)\n",
    "fi = initPerceptronNetwork(3, [2], 2)\n",
    "\n",
    "LR = 0.000001\n",
    "\n",
    "for i in range(0, 1001):\n",
    "    if i % 100 == 0:\n",
    "        print(\"[\" + str(i) +\"]: \" + str(__loss__(theta,fi)))\n",
    "        \n",
    "    theta_g = theta_grad(theta)\n",
    "    applyGrad(theta, theta_g, LR)\n",
    "    \n",
    "    fi_g = fi_grad(fi)\n",
    "    applyGrad(fi, fi_g, LR)\n",
    "    \n",
    "print(\"-- R0 --\")\n",
    "print(R)\n",
    "print(\"\\n-- R Hat --\")\n",
    "print(R_hat(theta, fi))"
   ]
  },
  {
   "cell_type": "code",
   "execution_count": null,
   "metadata": {
    "collapsed": true
   },
   "outputs": [],
   "source": []
  },
  {
   "cell_type": "code",
   "execution_count": null,
   "metadata": {
    "collapsed": true
   },
   "outputs": [],
   "source": []
  },
  {
   "cell_type": "code",
   "execution_count": null,
   "metadata": {
    "collapsed": true
   },
   "outputs": [],
   "source": []
  }
 ],
 "metadata": {
  "kernelspec": {
   "display_name": "Python 3",
   "language": "python",
   "name": "python3"
  },
  "language_info": {
   "codemirror_mode": {
    "name": "ipython",
    "version": 3
   },
   "file_extension": ".py",
   "mimetype": "text/x-python",
   "name": "python",
   "nbconvert_exporter": "python",
   "pygments_lexer": "ipython3",
   "version": "3.6.0"
  }
 },
 "nbformat": 4,
 "nbformat_minor": 2
}
