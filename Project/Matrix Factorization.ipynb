{
 "cells": [
  {
   "cell_type": "code",
   "execution_count": 64,
   "metadata": {
    "collapsed": true
   },
   "outputs": [],
   "source": [
    "import numpy as np\n",
    "import random\n",
    "LEARNING_RATE = 0.0002"
   ]
  },
  {
   "cell_type": "code",
   "execution_count": 81,
   "metadata": {
    "collapsed": false
   },
   "outputs": [
    {
     "name": "stdout",
     "output_type": "stream",
     "text": [
      "30000\n",
      "Err: 2.15436173568e-18\n",
      "[[ 1.          2.          3.          0.03794359]\n",
      " [ 5.          7.25        4.          1.        ]\n",
      " [ 3.          4.          1.          0.70312681]]\n"
     ]
    }
   ],
   "source": [
    "def factoriseMatrix(R, lf, steps=5000):\n",
    "    U = R.shape[0]\n",
    "    D = R.shape[1]\n",
    "    \n",
    "    P = np.random.rand(U, lf)\n",
    "    Q = np.transpose(np.random.rand(D, lf))\n",
    "    \n",
    "    for step in range(0, steps):\n",
    "        R_hat = np.dot(P, Q)\n",
    "        P_delta = np.zeros(P.shape)\n",
    "        Q_delta = np.zeros(Q.shape)\n",
    "        \n",
    "        for i in range(0, U):\n",
    "            for j in range(0, D):\n",
    "                # Skip if entrie is missing\n",
    "                if not R[i][j] > 0:\n",
    "                    continue\n",
    "                \n",
    "                e = R[i][j] - np.dot(P[i,:],Q[:,j])\n",
    "                for k in range(0, lf):\n",
    "                    P_delta[i,k] += e * Q[k, j]\n",
    "                    Q_delta[k,j] += e * P[i, k]\n",
    "                    \n",
    "        P = P + 2 * LEARNING_RATE * P_delta\n",
    "        Q = Q + 2 * LEARNING_RATE * Q_delta\n",
    "    \n",
    "    return P, Q\n",
    "\n",
    "def loss(R, R_hat):\n",
    "    D = R - R_hat\n",
    "    err = 0\n",
    "    \n",
    "    for i in range(D.shape[0]):\n",
    "        for j in range(D.shape[1]):\n",
    "            if not R[i][j] > 0:\n",
    "                continue\n",
    "                \n",
    "            err += np.power(D[i][j], 2)\n",
    "            \n",
    "    return err\n",
    "\n",
    "# 3 X 4\n",
    "R = np.array(\n",
    "    [[1, 2, 3, 0],\n",
    "     [5, 0, 4, 1],\n",
    "     [3, 4, 1, 0]])\n",
    "\n",
    "# R = [[5,3,0,1],[4,0,0,1],[1,1,0,5],[1,0,0,4],[0,1,5,4],]\n",
    "# R = np.array(R)\n",
    "\n",
    "\n",
    "P, Q = factoriseMatrix(R, 2, 30000)\n",
    "R_hat = np.dot(P, Q)\n",
    "print(\"Err: \" + str(loss(R, R_hat)))\n",
    "print(R_hat)\n"
   ]
  },
  {
   "cell_type": "code",
   "execution_count": null,
   "metadata": {
    "collapsed": true
   },
   "outputs": [],
   "source": []
  },
  {
   "cell_type": "code",
   "execution_count": null,
   "metadata": {
    "collapsed": true
   },
   "outputs": [],
   "source": []
  }
 ],
 "metadata": {
  "kernelspec": {
   "display_name": "Python 3",
   "language": "python",
   "name": "python3"
  },
  "language_info": {
   "codemirror_mode": {
    "name": "ipython",
    "version": 3
   },
   "file_extension": ".py",
   "mimetype": "text/x-python",
   "name": "python",
   "nbconvert_exporter": "python",
   "pygments_lexer": "ipython3",
   "version": "3.6.0"
  }
 },
 "nbformat": 4,
 "nbformat_minor": 2
}
