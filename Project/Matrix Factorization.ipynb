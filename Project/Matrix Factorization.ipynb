{
 "cells": [
  {
   "cell_type": "code",
   "execution_count": 64,
   "metadata": {
    "collapsed": true
   },
   "outputs": [],
   "source": [
    "# import autograd.numpy as np\n",
    "# from autograd import grad\n",
    "import numpy as np\n",
    "import random\n",
    "LEARNING_RATE = 0.0002"
   ]
  },
  {
   "cell_type": "code",
   "execution_count": 80,
   "metadata": {
    "collapsed": false
   },
   "outputs": [
    {
     "name": "stdout",
     "output_type": "stream",
     "text": [
      "30000\n"
     ]
    },
    {
     "ename": "ValueError",
     "evalue": "invalid number of arguments",
     "output_type": "error",
     "traceback": [
      "\u001b[0;31m---------------------------------------------------------------------------\u001b[0m",
      "\u001b[0;31mValueError\u001b[0m                                Traceback (most recent call last)",
      "\u001b[0;32m<ipython-input-80-96a043a12c5f>\u001b[0m in \u001b[0;36m<module>\u001b[0;34m()\u001b[0m\n\u001b[1;32m     59\u001b[0m \u001b[0mP\u001b[0m\u001b[1;33m,\u001b[0m \u001b[0mQ\u001b[0m \u001b[1;33m=\u001b[0m \u001b[0mfactoriseMatrix\u001b[0m\u001b[1;33m(\u001b[0m\u001b[0mR\u001b[0m\u001b[1;33m,\u001b[0m \u001b[1;36m2\u001b[0m\u001b[1;33m,\u001b[0m \u001b[1;36m30000\u001b[0m\u001b[1;33m)\u001b[0m\u001b[1;33m\u001b[0m\u001b[0m\n\u001b[1;32m     60\u001b[0m \u001b[0mR_hat\u001b[0m \u001b[1;33m=\u001b[0m \u001b[0mnp\u001b[0m\u001b[1;33m.\u001b[0m\u001b[0mdot\u001b[0m\u001b[1;33m(\u001b[0m\u001b[0mP\u001b[0m\u001b[1;33m,\u001b[0m \u001b[0mQ\u001b[0m\u001b[1;33m)\u001b[0m\u001b[1;33m\u001b[0m\u001b[0m\n\u001b[0;32m---> 61\u001b[0;31m \u001b[0mprint\u001b[0m\u001b[1;33m(\u001b[0m\u001b[1;34m\"Err: \"\u001b[0m \u001b[1;33m+\u001b[0m \u001b[0mstr\u001b[0m\u001b[1;33m(\u001b[0m\u001b[0mloss\u001b[0m\u001b[1;33m(\u001b[0m\u001b[0mR\u001b[0m\u001b[1;33m,\u001b[0m \u001b[0mR_hat\u001b[0m\u001b[1;33m)\u001b[0m\u001b[1;33m)\u001b[0m\u001b[1;33m)\u001b[0m\u001b[1;33m\u001b[0m\u001b[0m\n\u001b[0m\u001b[1;32m     62\u001b[0m \u001b[0mprint\u001b[0m\u001b[1;33m(\u001b[0m\u001b[0mR_hat\u001b[0m\u001b[1;33m)\u001b[0m\u001b[1;33m\u001b[0m\u001b[0m\n",
      "\u001b[0;32m<ipython-input-80-96a043a12c5f>\u001b[0m in \u001b[0;36mloss\u001b[0;34m(R, R_hat)\u001b[0m\n\u001b[1;32m     43\u001b[0m                 \u001b[1;32mcontinue\u001b[0m\u001b[1;33m\u001b[0m\u001b[0m\n\u001b[1;32m     44\u001b[0m \u001b[1;33m\u001b[0m\u001b[0m\n\u001b[0;32m---> 45\u001b[0;31m             \u001b[0merr\u001b[0m \u001b[1;33m+=\u001b[0m \u001b[0mnp\u001b[0m\u001b[1;33m.\u001b[0m\u001b[0mpower\u001b[0m\u001b[1;33m(\u001b[0m\u001b[0mD\u001b[0m\u001b[1;33m[\u001b[0m\u001b[0mi\u001b[0m\u001b[1;33m]\u001b[0m\u001b[1;33m[\u001b[0m\u001b[0mj\u001b[0m\u001b[1;33m]\u001b[0m\u001b[1;33m)\u001b[0m\u001b[1;33m\u001b[0m\u001b[0m\n\u001b[0m\u001b[1;32m     46\u001b[0m \u001b[1;33m\u001b[0m\u001b[0m\n\u001b[1;32m     47\u001b[0m     \u001b[1;32mreturn\u001b[0m \u001b[0merr\u001b[0m\u001b[1;33m\u001b[0m\u001b[0m\n",
      "\u001b[0;31mValueError\u001b[0m: invalid number of arguments"
     ]
    }
   ],
   "source": [
    "def factoriseMatrix(R, lf, steps=5000):\n",
    "    print(steps)\n",
    "    U = R.shape[0]\n",
    "    D = R.shape[1]\n",
    "    \n",
    "    P = np.random.rand(U, lf)\n",
    "    Q = np.transpose(np.random.rand(D, lf))\n",
    "    \n",
    "    for step in range(0, steps):\n",
    "        R_hat = np.dot(P, Q)\n",
    "#         E = np.power(R - R_hat, 2)\n",
    "        \n",
    "#         if step % 1000 == 0:\n",
    "#             err = np.sum(E)\n",
    "#             print(\"Error: \" + str(err))\n",
    "        \n",
    "        P_delta = np.zeros(P.shape)\n",
    "        Q_delta = np.zeros(Q.shape)\n",
    "        \n",
    "        for i in range(0, U):\n",
    "            for j in range(0, D):\n",
    "                # Skip if entrie is missing\n",
    "                if not R[i][j] > 0:\n",
    "                    continue\n",
    "                \n",
    "                e = R[i][j] - np.dot(P[i,:],Q[:,j])\n",
    "                for k in range(0, lf):\n",
    "                    P_delta[i,k] += e * Q[k, j]\n",
    "                    Q_delta[k,j] += e * P[i, k]\n",
    "                    \n",
    "        P = P + 2 * LEARNING_RATE * P_delta\n",
    "        Q = Q + 2 * LEARNING_RATE * Q_delta\n",
    "    \n",
    "    return P, Q\n",
    "\n",
    "def loss(R, R_hat):\n",
    "    D = R - R_hat\n",
    "    err = 0\n",
    "    \n",
    "    for i in range(D.shape[0]):\n",
    "        for j in range(D.shape[1]):\n",
    "            if not R[i][j] > 0:\n",
    "                continue\n",
    "                \n",
    "            err += np.power(D[i][j], 2)\n",
    "            \n",
    "    return err\n",
    "\n",
    "# 3 X 4\n",
    "R = np.array(\n",
    "    [[1, 2, 3, 0],\n",
    "     [5, 0, 4, 1],\n",
    "     [3, 4, 1, 0]])\n",
    "\n",
    "# R = [[5,3,0,1],[4,0,0,1],[1,1,0,5],[1,0,0,4],[0,1,5,4],]\n",
    "# R = np.array(R)\n",
    "\n",
    "\n",
    "P, Q = factoriseMatrix(R, 2, 30000)\n",
    "R_hat = np.dot(P, Q)\n",
    "print(\"Err: \" + str(loss(R, R_hat)))\n",
    "print(R_hat)\n"
   ]
  },
  {
   "cell_type": "code",
   "execution_count": null,
   "metadata": {
    "collapsed": true
   },
   "outputs": [],
   "source": []
  },
  {
   "cell_type": "code",
   "execution_count": null,
   "metadata": {
    "collapsed": true
   },
   "outputs": [],
   "source": []
  }
 ],
 "metadata": {
  "kernelspec": {
   "display_name": "Python 3",
   "language": "python",
   "name": "python3"
  },
  "language_info": {
   "codemirror_mode": {
    "name": "ipython",
    "version": 3
   },
   "file_extension": ".py",
   "mimetype": "text/x-python",
   "name": "python",
   "nbconvert_exporter": "python",
   "pygments_lexer": "ipython3",
   "version": "3.6.0"
  }
 },
 "nbformat": 4,
 "nbformat_minor": 2
}
