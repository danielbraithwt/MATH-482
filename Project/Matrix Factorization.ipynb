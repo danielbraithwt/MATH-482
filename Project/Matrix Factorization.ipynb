{
 "cells": [
  {
   "cell_type": "code",
   "execution_count": 2,
   "metadata": {
    "collapsed": true
   },
   "outputs": [],
   "source": [
    "import numpy as np\n",
    "import random\n",
    "LEARNING_RATE = 0.0002"
   ]
  },
  {
   "cell_type": "code",
   "execution_count": 7,
   "metadata": {
    "collapsed": false
   },
   "outputs": [],
   "source": [
    "def factoriseMatrix(R, lf, steps=5000):\n",
    "    U = R.shape[0]\n",
    "    D = R.shape[1]\n",
    "    \n",
    "    P = np.random.rand(U, lf)\n",
    "    Q = np.transpose(np.random.rand(D, lf))\n",
    "    \n",
    "    for step in range(0, steps):\n",
    "        R_hat = np.dot(P, Q)\n",
    "        P_delta = np.zeros(P.shape)\n",
    "        Q_delta = np.zeros(Q.shape)\n",
    "        \n",
    "        for i in range(0, U):\n",
    "            for j in range(0, D):\n",
    "                # Skip if entrie is missing\n",
    "                if not R[i][j] > 0:\n",
    "                    continue\n",
    "                \n",
    "                e = R[i][j] - np.dot(P[i,:],Q[:,j])\n",
    "                for k in range(0, lf):\n",
    "                    P_delta[i,k] += e * Q[k, j]\n",
    "                    Q_delta[k,j] += e * P[i, k]\n",
    "                    \n",
    "        P = P + 2 * LEARNING_RATE * P_delta\n",
    "        Q = Q + 2 * LEARNING_RATE * Q_delta\n",
    "    \n",
    "    return P, Q\n",
    "\n",
    "def loss(R, R_hat):\n",
    "    D = R - R_hat\n",
    "    err = 0\n",
    "    \n",
    "    for i in range(D.shape[0]):\n",
    "        for j in range(D.shape[1]):\n",
    "            if not R[i][j] > 0:\n",
    "                continue\n",
    "                \n",
    "            err += np.power(D[i][j], 2)\n",
    "            \n",
    "    return err"
   ]
  },
  {
   "cell_type": "markdown",
   "metadata": {},
   "source": [
    "# Tests"
   ]
  },
  {
   "cell_type": "code",
   "execution_count": 8,
   "metadata": {
    "collapsed": false
   },
   "outputs": [
    {
     "name": "stdout",
     "output_type": "stream",
     "text": [
      "-- R --\n",
      "[[11 23 33 12]\n",
      " [19 37 42 19]\n",
      " [24 46 55 19]\n",
      " [25 46 54 23]]\n",
      "-- R0 --\n",
      "[[ 0 23 33 12]\n",
      " [19 37  0 19]\n",
      " [24  0 55 19]\n",
      " [25 46 54 23]]\n",
      "\n",
      "-- A Hat --\n",
      "[[ 3.12366314  1.04041461  2.26799095  0.33223005]\n",
      " [ 2.96362246  2.04841092  2.90642785  3.00629383]\n",
      " [ 5.32722771  2.51471195  3.04531728  0.34751907]\n",
      " [ 4.54301712  2.96866661  3.16145184  2.88037003]]\n",
      "\n",
      "-- B Hat --\n",
      "[[ 2.67766047  3.72429022  6.61156503  1.81073723]\n",
      " [ 1.5355032   3.01804588  2.94524884  0.91342693]\n",
      " [ 1.83023044  3.10283462  3.95509462  2.1027476 ]\n",
      " [ 0.86473618  3.57990516  0.94301906  1.87975658]]\n",
      "\n",
      "-- R Hat --\n",
      "[[ 14.3999067   23.          33.          12.        ]\n",
      " [ 19.          37.00000001  39.95745202  18.99999999]\n",
      " [ 24.          38.12285928  55.          19.        ]\n",
      " [ 25.          45.99999999  54.          23.00000001]]\n"
     ]
    }
   ],
   "source": [
    "A = np.array(\n",
    "[\n",
    "    [1,2,1,4],\n",
    "    [2,4,3,1],\n",
    "    [1,5,4,2],\n",
    "    [2,4,4,3]\n",
    "])\n",
    "\n",
    "B = np.array(\n",
    "[\n",
    "    [1,2,1,4],\n",
    "    [1,4,6,1],\n",
    "    [4,5,4,2],\n",
    "    [1,2,4,1],\n",
    "])\n",
    "\n",
    "R = np.dot(A, B)\n",
    "\n",
    "print(\"-- R --\")\n",
    "print(R)\n",
    "\n",
    "R[1,2] = 0\n",
    "R[2,1] = 0\n",
    "R[0,0] = 0\n",
    "\n",
    "print(\"-- R0 --\")\n",
    "print(R)\n",
    "\n",
    "A_hat, B_hat = factoriseMatrix(R, 4, 50000)\n",
    "R_hat = np.dot(A_hat, B_hat)\n",
    "\n",
    "print(\"\\n-- A Hat --\")\n",
    "print(A_hat)\n",
    "\n",
    "print(\"\\n-- B Hat --\")\n",
    "print(B_hat)\n",
    "\n",
    "print(\"\\n-- R Hat --\")\n",
    "print(R_hat)"
   ]
  },
  {
   "cell_type": "code",
   "execution_count": null,
   "metadata": {
    "collapsed": true
   },
   "outputs": [],
   "source": [
    "# 3 X 4\n",
    "R = np.array(\n",
    "    [[1, 2, 3, 0],\n",
    "     [5, 0, 4, 1],\n",
    "     [3, 4, 1, 0]])\n",
    "\n",
    "P, Q = factoriseMatrix(R, 2, 30000)\n",
    "R_hat = np.dot(P, Q)\n",
    "print(\"Err: \" + str(loss(R, R_hat)))\n",
    "print(R_hat)"
   ]
  },
  {
   "cell_type": "code",
   "execution_count": null,
   "metadata": {
    "collapsed": true
   },
   "outputs": [],
   "source": []
  }
 ],
 "metadata": {
  "kernelspec": {
   "display_name": "Python 3",
   "language": "python",
   "name": "python3"
  },
  "language_info": {
   "codemirror_mode": {
    "name": "ipython",
    "version": 3
   },
   "file_extension": ".py",
   "mimetype": "text/x-python",
   "name": "python",
   "nbconvert_exporter": "python",
   "pygments_lexer": "ipython3",
   "version": "3.6.0"
  }
 },
 "nbformat": 4,
 "nbformat_minor": 2
}
